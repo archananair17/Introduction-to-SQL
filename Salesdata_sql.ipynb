{
  "nbformat": 4,
  "nbformat_minor": 0,
  "metadata": {
    "colab": {
      "name": "Salesdata sql.ipynb",
      "provenance": [],
      "authorship_tag": "ABX9TyOHXM/5rdmacMTtQ8O0sXXh",
      "include_colab_link": true
    },
    "kernelspec": {
      "name": "python3",
      "display_name": "Python 3"
    },
    "language_info": {
      "name": "python"
    }
  },
  "cells": [
    {
      "cell_type": "markdown",
      "metadata": {
        "id": "view-in-github",
        "colab_type": "text"
      },
      "source": [
        "<a href=\"https://colab.research.google.com/github/archananair17/Introduction-to-SQL/blob/main/Salesdata_sql.ipynb\" target=\"_parent\"><img src=\"https://colab.research.google.com/assets/colab-badge.svg\" alt=\"Open In Colab\"/></a>"
      ]
    },
    {
      "cell_type": "code",
      "execution_count": 2,
      "metadata": {
        "colab": {
          "base_uri": "https://localhost:8080/"
        },
        "id": "Eo2Pt76JFF6v",
        "outputId": "a15de0a9-0e5c-4b96-889e-f9aead127ec7"
      },
      "outputs": [
        {
          "output_type": "stream",
          "name": "stdout",
          "text": [
            "[('10', '692-92-5582', 'B', 'Mandalay', 'Member', 'Female', 'Food and beverages', '3', '144', '7445', '13:27', 'Credit card', '164.52', '4.761904762', '8.226', '5.9', '0')]\n"
          ]
        }
      ],
      "source": [
        "import sqlite3\n",
        "conn = sqlite3.connect('SalesDBNew.db')\n",
        "cursor = conn.cursor()\n",
        "cursor.execute('''SELECT * FROM Supermarket_sales ORDER BY Unitprice  LIMIT 1; ''')\n",
        "print(cursor.fetchall())\n",
        "conn.close()"
      ]
    },
    {
      "cell_type": "code",
      "source": [
        "import sqlite3\n",
        "conn = sqlite3.connect('SalesDBNew.db')\n",
        "cursor = conn.cursor()\n",
        "cursor.execute('''SELECT min(Unitprice),max(Unitprice),avg(Unitprice) FROM Supermarket_sales; ''')\n",
        "print(cursor.fetchall())\n",
        "conn.close()"
      ],
      "metadata": {
        "colab": {
          "base_uri": "https://localhost:8080/"
        },
        "id": "SFq8SekvF78b",
        "outputId": "5f5bab42-9487-48ec-d552-90c5bf120078"
      },
      "execution_count": 3,
      "outputs": [
        {
          "output_type": "stream",
          "name": "stdout",
          "text": [
            "[('0', '99', 49.099)]\n"
          ]
        }
      ]
    },
    {
      "cell_type": "code",
      "source": [
        "import sqlite3\n",
        "conn = sqlite3.connect('SalesDBNew.db')\n",
        "cursor = conn.cursor()\n",
        "cursor.execute('''SELECT min(Quantity),max(Quantity),avg(Quantity) FROM Supermarket_sales; ''')\n",
        "print(cursor.fetchall())\n",
        "conn.close()"
      ],
      "metadata": {
        "colab": {
          "base_uri": "https://localhost:8080/"
        },
        "id": "eb7pR1HaIKkQ",
        "outputId": "d5569761-7787-4bda-caab-8226839b9be9"
      },
      "execution_count": 4,
      "outputs": [
        {
          "output_type": "stream",
          "name": "stdout",
          "text": [
            "[('1', '9', 5.51)]\n"
          ]
        }
      ]
    },
    {
      "cell_type": "code",
      "source": [
        "import sqlite3\n",
        "conn = sqlite3.connect('SalesDBNew.db')\n",
        "cursor = conn.cursor()\n",
        "cursor.execute('''SELECT min(Quantity),max(Quantity),avg(Quantity) FROM Supermarket_sales WHERE Productline=\"Health and beauty\"; ''')\n",
        "print(cursor.fetchall())\n",
        "conn.close()"
      ],
      "metadata": {
        "colab": {
          "base_uri": "https://localhost:8080/"
        },
        "id": "gRlAj0ThImIC",
        "outputId": "14730e26-0049-442c-f392-8245e20a75a8"
      },
      "execution_count": 5,
      "outputs": [
        {
          "output_type": "stream",
          "name": "stdout",
          "text": [
            "[('1', '9', 5.618421052631579)]\n"
          ]
        }
      ]
    },
    {
      "cell_type": "code",
      "source": [
        "import sqlite3\n",
        "conn = sqlite3.connect('SalesDBNew.db')\n",
        "cursor = conn.cursor()\n",
        "cursor.execute('''SELECT min(Unitprice),max(Unitprice),avg(Unitprice) FROM Supermarket_sales WHERE Productline=\"Health and beauty\"; ''')\n",
        "print(cursor.fetchall())\n",
        "conn.close()"
      ],
      "metadata": {
        "colab": {
          "base_uri": "https://localhost:8080/"
        },
        "id": "5-TjwxNOJEh8",
        "outputId": "8e318312-b84a-49a2-984f-d43360575c5f"
      },
      "execution_count": 6,
      "outputs": [
        {
          "output_type": "stream",
          "name": "stdout",
          "text": [
            "[('0', '99', 45.35526315789474)]\n"
          ]
        }
      ]
    },
    {
      "cell_type": "code",
      "source": [
        "import sqlite3\n",
        "conn = sqlite3.connect('SalesDBNew.db')\n",
        "cursor = conn.cursor()\n",
        "cursor.execute('''SELECT min(Quantity),max(Quantity),avg(Quantity) FROM Supermarket_sales WHERE Productline=\"Electronic accessories\"; ''')\n",
        "print(cursor.fetchall())\n",
        "conn.close()"
      ],
      "metadata": {
        "colab": {
          "base_uri": "https://localhost:8080/"
        },
        "id": "unghP3oBJ61l",
        "outputId": "ad4cb73d-f1bb-4b27-9da7-64732715aedd"
      },
      "execution_count": 7,
      "outputs": [
        {
          "output_type": "stream",
          "name": "stdout",
          "text": [
            "[('1', '9', 5.711764705882353)]\n"
          ]
        }
      ]
    },
    {
      "cell_type": "code",
      "source": [
        "import sqlite3\n",
        "conn = sqlite3.connect('SalesDBNew.db')\n",
        "cursor = conn.cursor()\n",
        "cursor.execute('''SELECT count(Gender) FROM Supermarket_sales WHERE Productline=\"Health and beauty\" AND Gender=\"Male\"; ''')\n",
        "print(cursor.fetchall())\n",
        "conn.close()"
      ],
      "metadata": {
        "colab": {
          "base_uri": "https://localhost:8080/"
        },
        "id": "rEATDs58KGow",
        "outputId": "5496214a-9d81-4e90-d8a7-f33b6ee5d729"
      },
      "execution_count": 8,
      "outputs": [
        {
          "output_type": "stream",
          "name": "stdout",
          "text": [
            "[(88,)]\n"
          ]
        }
      ]
    },
    {
      "cell_type": "code",
      "source": [
        "import sqlite3\n",
        "conn = sqlite3.connect('SalesDBNew.db')\n",
        "cursor = conn.cursor()\n",
        "cursor.execute('''SELECT count(Gender) FROM Supermarket_sales WHERE Productline=\"Fashion accessories\" AND Gender=\"Female\"; ''')\n",
        "print(cursor.fetchall())\n",
        "conn.close()"
      ],
      "metadata": {
        "colab": {
          "base_uri": "https://localhost:8080/"
        },
        "id": "r2KFubNbLBlk",
        "outputId": "656c95e7-fa9f-487b-bbf6-778ea860e090"
      },
      "execution_count": 9,
      "outputs": [
        {
          "output_type": "stream",
          "name": "stdout",
          "text": [
            "[(96,)]\n"
          ]
        }
      ]
    },
    {
      "cell_type": "code",
      "source": [
        "import sqlite3\n",
        "conn = sqlite3.connect('SalesDBNew.db')\n",
        "cursor = conn.cursor()\n",
        "cursor.execute('''SELECT count(Gender) FROM Supermarket_sales WHERE Productline=\"Fashion accessories\" AND Productline=\"Sports and travel\" AND Gender=\"Female\"; ''')\n",
        "print(cursor.fetchall())\n",
        "conn.close()"
      ],
      "metadata": {
        "colab": {
          "base_uri": "https://localhost:8080/"
        },
        "id": "4-EuEfeCLTFH",
        "outputId": "09991cc7-0533-41d8-e15d-dba4d2be64fe"
      },
      "execution_count": 10,
      "outputs": [
        {
          "output_type": "stream",
          "name": "stdout",
          "text": [
            "[(0,)]\n"
          ]
        }
      ]
    }
  ]
}